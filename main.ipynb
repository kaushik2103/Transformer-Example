{
 "cells": [
  {
   "cell_type": "code",
   "execution_count": 1,
   "id": "initial_id",
   "metadata": {
    "collapsed": true,
    "ExecuteTime": {
     "end_time": "2024-03-04T09:49:20.349549900Z",
     "start_time": "2024-03-04T09:49:20.340048Z"
    }
   },
   "outputs": [],
   "source": [
    "# Transformer Example "
   ]
  },
  {
   "cell_type": "code",
   "outputs": [
    {
     "name": "stdout",
     "output_type": "stream",
     "text": [
      "Requirement already satisfied: transformers in d:\\machine_learning\\transformer_nlp\\.venv\\lib\\site-packages (4.38.2)\n",
      "Requirement already satisfied: filelock in d:\\machine_learning\\transformer_nlp\\.venv\\lib\\site-packages (from transformers) (3.13.1)\n",
      "Requirement already satisfied: huggingface-hub<1.0,>=0.19.3 in d:\\machine_learning\\transformer_nlp\\.venv\\lib\\site-packages (from transformers) (0.21.3)\n",
      "Requirement already satisfied: numpy>=1.17 in d:\\machine_learning\\transformer_nlp\\.venv\\lib\\site-packages (from transformers) (1.26.4)\n",
      "Requirement already satisfied: packaging>=20.0 in d:\\machine_learning\\transformer_nlp\\.venv\\lib\\site-packages (from transformers) (23.2)\n",
      "Requirement already satisfied: pyyaml>=5.1 in d:\\machine_learning\\transformer_nlp\\.venv\\lib\\site-packages (from transformers) (6.0.1)\n",
      "Requirement already satisfied: regex!=2019.12.17 in d:\\machine_learning\\transformer_nlp\\.venv\\lib\\site-packages (from transformers) (2023.12.25)\n",
      "Requirement already satisfied: requests in d:\\machine_learning\\transformer_nlp\\.venv\\lib\\site-packages (from transformers) (2.31.0)\n",
      "Requirement already satisfied: tokenizers<0.19,>=0.14 in d:\\machine_learning\\transformer_nlp\\.venv\\lib\\site-packages (from transformers) (0.15.2)\n",
      "Requirement already satisfied: safetensors>=0.4.1 in d:\\machine_learning\\transformer_nlp\\.venv\\lib\\site-packages (from transformers) (0.4.2)\n",
      "Requirement already satisfied: tqdm>=4.27 in d:\\machine_learning\\transformer_nlp\\.venv\\lib\\site-packages (from transformers) (4.66.2)\n",
      "Requirement already satisfied: fsspec>=2023.5.0 in d:\\machine_learning\\transformer_nlp\\.venv\\lib\\site-packages (from huggingface-hub<1.0,>=0.19.3->transformers) (2024.2.0)\n",
      "Requirement already satisfied: typing-extensions>=3.7.4.3 in d:\\machine_learning\\transformer_nlp\\.venv\\lib\\site-packages (from huggingface-hub<1.0,>=0.19.3->transformers) (4.10.0)\n",
      "Requirement already satisfied: colorama in d:\\machine_learning\\transformer_nlp\\.venv\\lib\\site-packages (from tqdm>=4.27->transformers) (0.4.6)\n",
      "Requirement already satisfied: charset-normalizer<4,>=2 in d:\\machine_learning\\transformer_nlp\\.venv\\lib\\site-packages (from requests->transformers) (3.3.2)\n",
      "Requirement already satisfied: idna<4,>=2.5 in d:\\machine_learning\\transformer_nlp\\.venv\\lib\\site-packages (from requests->transformers) (3.6)\n",
      "Requirement already satisfied: urllib3<3,>=1.21.1 in d:\\machine_learning\\transformer_nlp\\.venv\\lib\\site-packages (from requests->transformers) (2.2.1)\n",
      "Requirement already satisfied: certifi>=2017.4.17 in d:\\machine_learning\\transformer_nlp\\.venv\\lib\\site-packages (from requests->transformers) (2024.2.2)\n"
     ]
    }
   ],
   "source": [
    "!pip install transformers"
   ],
   "metadata": {
    "collapsed": false,
    "ExecuteTime": {
     "end_time": "2024-03-04T10:02:51.797652900Z",
     "start_time": "2024-03-04T10:02:50.243810700Z"
    }
   },
   "id": "d16086bacbdd5a85",
   "execution_count": 1
  },
  {
   "cell_type": "code",
   "outputs": [],
   "source": [
    "from transformers import GPT2Tokenizer, GPT2LMHeadModel"
   ],
   "metadata": {
    "collapsed": false,
    "ExecuteTime": {
     "end_time": "2024-03-04T10:02:55.070283800Z",
     "start_time": "2024-03-04T10:02:52.790299900Z"
    }
   },
   "id": "cdb5b276b34c03b0",
   "execution_count": 2
  },
  {
   "cell_type": "code",
   "outputs": [
    {
     "data": {
      "text/plain": "model.safetensors:   0%|          | 0.00/3.25G [00:00<?, ?B/s]",
      "application/vnd.jupyter.widget-view+json": {
       "version_major": 2,
       "version_minor": 0,
       "model_id": "3517aa23befd4360acbc1023ebde86f9"
      }
     },
     "metadata": {},
     "output_type": "display_data"
    },
    {
     "data": {
      "text/plain": "generation_config.json:   0%|          | 0.00/124 [00:00<?, ?B/s]",
      "application/vnd.jupyter.widget-view+json": {
       "version_major": 2,
       "version_minor": 0,
       "model_id": "a8a0b40b42974ca6ac7681bd9e048e73"
      }
     },
     "metadata": {},
     "output_type": "display_data"
    }
   ],
   "source": [
    "# Load the GPT-2 tokenizer and GPT2LMHeadModel\n",
    "tokenizer = GPT2Tokenizer.from_pretrained('gpt2-large')\n",
    "model = GPT2LMHeadModel.from_pretrained('gpt2-large', pad_token_id=tokenizer.eos_token_id)"
   ],
   "metadata": {
    "collapsed": false,
    "ExecuteTime": {
     "end_time": "2024-03-04T10:05:31.911928900Z",
     "start_time": "2024-03-04T10:02:56.367627600Z"
    }
   },
   "id": "1e9dea72d104f7e5",
   "execution_count": 3
  },
  {
   "cell_type": "code",
   "outputs": [
    {
     "data": {
      "text/plain": "50256"
     },
     "execution_count": 4,
     "metadata": {},
     "output_type": "execute_result"
    }
   ],
   "source": [
    "tokenizer.eos_token_id"
   ],
   "metadata": {
    "collapsed": false,
    "ExecuteTime": {
     "end_time": "2024-03-04T10:07:21.540537700Z",
     "start_time": "2024-03-04T10:07:21.502676400Z"
    }
   },
   "id": "dc2bcd9bea145367",
   "execution_count": 4
  },
  {
   "cell_type": "code",
   "outputs": [
    {
     "name": "stdout",
     "output_type": "stream",
     "text": [
      "WARNING:tensorflow:From D:\\Machine_Learning\\Transformer_NLP\\.venv\\lib\\site-packages\\keras\\src\\losses.py:2976: The name tf.losses.sparse_softmax_cross_entropy is deprecated. Please use tf.compat.v1.losses.sparse_softmax_cross_entropy instead.\n"
     ]
    },
    {
     "data": {
      "text/plain": "'<|endoftext|>'"
     },
     "execution_count": 5,
     "metadata": {},
     "output_type": "execute_result"
    }
   ],
   "source": [
    "tokenizer.decode(tokenizer.eos_token_id)"
   ],
   "metadata": {
    "collapsed": false,
    "ExecuteTime": {
     "end_time": "2024-03-04T10:07:38.915401200Z",
     "start_time": "2024-03-04T10:07:31.563533500Z"
    }
   },
   "id": "49d8c455b5efae9d",
   "execution_count": 5
  },
  {
   "cell_type": "code",
   "outputs": [
    {
     "data": {
      "text/plain": "tensor([[   40,  1842,  2057,   290,   314,   716,  1016,   284,  4483, 14256]])"
     },
     "execution_count": 13,
     "metadata": {},
     "output_type": "execute_result"
    }
   ],
   "source": [
    "# Put some sentences\n",
    "sentence = \"I love food and I am going to eat pizza\"\n",
    "numerical_sentence = tokenizer.encode(sentence, return_tensors=\"pt\")\n",
    "numerical_sentence"
   ],
   "metadata": {
    "collapsed": false,
    "ExecuteTime": {
     "end_time": "2024-03-04T10:10:03.706423800Z",
     "start_time": "2024-03-04T10:10:03.691173400Z"
    }
   },
   "id": "136563bb99d395a6",
   "execution_count": 13
  },
  {
   "cell_type": "code",
   "outputs": [
    {
     "data": {
      "text/plain": "'I love food and I am going to eat pizza'"
     },
     "execution_count": 18,
     "metadata": {},
     "output_type": "execute_result"
    }
   ],
   "source": [
    "tokenizer.decode(numerical_sentence[0])"
   ],
   "metadata": {
    "collapsed": false,
    "ExecuteTime": {
     "end_time": "2024-03-04T10:10:35.797723900Z",
     "start_time": "2024-03-04T10:10:35.787315300Z"
    }
   },
   "id": "f167001869dd2060",
   "execution_count": 18
  },
  {
   "cell_type": "code",
   "outputs": [],
   "source": [
    "# Model to generate text\n",
    "result = model.generate(numerical_sentence, max_length=500, num_beams=5, no_repeat_ngram_size=2, early_stopping=True,do_sample=True)"
   ],
   "metadata": {
    "collapsed": false,
    "ExecuteTime": {
     "end_time": "2024-03-04T10:15:30.066827500Z",
     "start_time": "2024-03-04T10:15:11.231789900Z"
    }
   },
   "id": "e14a7ce14916ffc",
   "execution_count": 33
  },
  {
   "cell_type": "code",
   "outputs": [
    {
     "data": {
      "text/plain": "tensor([[   40,  1842,  2057,   290,   314,   716,  1016,   284,  4483, 14256,\n           329,   262,  1334,   286,   616,  1204,    13,   632,   338,   655,\n           257,  2300,   286,   618,    11,   407,   611,   526,   198,   198,\n          1026,   338,   407,   262,   717,   640,   339,   338,  9635,   546,\n           465,  1842,   329, 14256,    13,   554,  2813,    11,   339,  1297,\n           262,   968,  1971,  3782,   326,   339,   373, 21366,   351,   262,\n          9433,    13,   366,    40,  1101,   257,  3236,  4336,   286, 14256,\n           553,   339,   531,   379,   262,   640,    11,   366,  4360,   314,\n           836,   470,  4483,   340,   790,  1110,   526, 50256]])"
     },
     "execution_count": 34,
     "metadata": {},
     "output_type": "execute_result"
    }
   ],
   "source": [
    "result"
   ],
   "metadata": {
    "collapsed": false,
    "ExecuteTime": {
     "end_time": "2024-03-04T10:15:32.402606100Z",
     "start_time": "2024-03-04T10:15:32.392316300Z"
    }
   },
   "id": "f950387af04116a4",
   "execution_count": 34
  },
  {
   "cell_type": "code",
   "outputs": [
    {
     "data": {
      "text/plain": "'I love food and I am going to eat pizza for the rest of my life. It\\'s just a matter of when, not if.\"\\n\\nIt\\'s not the first time he\\'s spoken about his love for pizza. In 2011, he told the New York Times that he was obsessed with the dish. \"I\\'m a huge fan of pizza,\" he said at the time, \"but I don\\'t eat it every day.\"'"
     },
     "execution_count": 37,
     "metadata": {},
     "output_type": "execute_result"
    }
   ],
   "source": [
    "tokenizer.decode(result[0], skip_special_tokens=True)"
   ],
   "metadata": {
    "collapsed": false,
    "ExecuteTime": {
     "end_time": "2024-03-04T10:16:07.977803900Z",
     "start_time": "2024-03-04T10:16:07.953162600Z"
    }
   },
   "id": "321e4009e889ff1b",
   "execution_count": 37
  }
 ],
 "metadata": {
  "kernelspec": {
   "display_name": "Python 3",
   "language": "python",
   "name": "python3"
  },
  "language_info": {
   "codemirror_mode": {
    "name": "ipython",
    "version": 2
   },
   "file_extension": ".py",
   "mimetype": "text/x-python",
   "name": "python",
   "nbconvert_exporter": "python",
   "pygments_lexer": "ipython2",
   "version": "2.7.6"
  }
 },
 "nbformat": 4,
 "nbformat_minor": 5
}
